{
 "cells": [
  {
   "cell_type": "markdown",
   "metadata": {},
   "source": [
    "# 本章内容介绍\n",
    "\n",
    "奇异值分解(Singular Value Decomposition,SVD)常用来简化数据、去除噪声。在这章先介绍SVD的一些应用，再从其算法来分析它为什么有效，然后建立一个基于协同过滤的系统。"
   ]
  },
  {
   "cell_type": "markdown",
   "metadata": {},
   "source": [
    "# 奇异值分解的应用\n",
    "\n",
    "在隐性语义索引中(Latent Semantic Indexing，LSI)，我们将一个文档用一个矩阵(term-document)表示，在这个矩阵的基础上运用SVD对其分解，便可以得到它的某个低秩逼近，在这个低秩逼近下，可以为每个文档产生一个新的表示(奇异值)。这些奇异值代表了文档的概念或者主题，因此可以用于加快文档检索。\n",
    "\n",
    "另一个应用就是推荐系统。SVD可以从数据中构建一个主题空间，然后在这个空间中计算它的相似度。具体的实现将在后面进行讲解。"
   ]
  },
  {
   "cell_type": "markdown",
   "metadata": {},
   "source": [
    "# 矩阵分解\n",
    "\n",
    "SVD是矩阵分解的一种类型，矩阵分解的目的是将矩阵分成多个独立的部分。我们可以将这种分解的过程想象成代数中的因子分解。如何将12分解成两个数的乘积？(1,12)(2,6)(3,4)都是合理的答案。\n",
    "\n",
    "不同矩阵分解技术有不同的性质，运用于不同方面，而SVD则是最常见的一种分解技术。它将矩阵$Data$分解成三个矩阵$U 、\\Sigma和V^T$\n",
    "\n",
    "假如矩阵$Data$的维度是$m \\times n$，$U 、\\Sigma和V^T$这三个矩阵的维度分别是$m \\times m、m \\times n 、n \\times n$，所以用公式表达就是\n",
    "\n",
    "$$Data_{m \\times n} = U_{m \\times m}\\Sigma_{m \\times n}V^T_{n \\times n}$$\n",
    "\n",
    "其中$\\Sigma$是一个对角矩阵，也就是奇异值矩阵，而且其对角元素是从大到小排列的，被称为奇异值。而且在科学和工程中，一直存在着一个普遍的事实：在某个奇异值的数目($r$个)之后，其他奇异值都置为0。这意味着数据集中仅有$r$个重要特征，而其余特征都是噪声或者是冗余特征。$U$被称为左奇异矩阵，$V^T$则是右奇异矩阵，两者都是单位正交矩阵。SVD的目的是，对任意$m\\times n$的矩阵，找到一组正交基使得经过它变换后还是正交基。"
   ]
  },
  {
   "cell_type": "markdown",
   "metadata": {},
   "source": [
    "# 利用Python实现SVD"
   ]
  },
  {
   "cell_type": "code",
   "execution_count": 1,
   "metadata": {},
   "outputs": [
    {
     "name": "stdout",
     "output_type": "stream",
     "text": [
      "[[-0.14142136 -0.98994949]\n",
      " [-0.98994949  0.14142136]]\n",
      "[[-0.70710678 -0.70710678]\n",
      " [-0.70710678  0.70710678]]\n",
      "[10.  0.]\n",
      "[[10.  0.]\n",
      " [ 0.  0.]]\n",
      "[[1. 1.]\n",
      " [7. 7.]]\n"
     ]
    }
   ],
   "source": [
    "#导入需要的库与包\n",
    "import numpy as np\n",
    "from numpy import linalg\n",
    "\n",
    "#创建矩阵\n",
    "Data = np.array([[1,1],[7,7]])\n",
    "\n",
    "m = Data.shape[0]#矩阵的行数\n",
    "n = Data.shape[1]#矩阵的列数\n",
    "\n",
    "#调用linalg包中封装好的SVD算法\n",
    "U,Sigma,VT = linalg.svd(Data)\n",
    "\n",
    "print(U)\n",
    "print(VT)\n",
    "print(Sigma)\n",
    "\n",
    "#我们需要构建一个mxn的Sigma矩阵，但是我们并不知道返回的特征值有多少个，因此要在后面补充零\n",
    "if m > n:\n",
    "    for i in range(m - len(Sigma)):\n",
    "        Sigma = np.append(Sigma,0)\n",
    "else:\n",
    "    for i in range(n - len(Sigma)):\n",
    "        Sigma = np.append(Sigma,0)\n",
    "#注意：linalg为了节省空间，对角矩阵以一维向量返回，因此需使用np.diag将一维向量转换成对角矩阵，然后再取前m行，前n列\n",
    "print(np.diag(Sigma)[:m,:n])\n",
    "rData = np.dot(np.dot(U,np.diag(Sigma)[:m,:]),VT)\n",
    "print(rData)"
   ]
  },
  {
   "cell_type": "code",
   "execution_count": 2,
   "metadata": {},
   "outputs": [],
   "source": [
    "def loadExData():\n",
    "    '''\n",
    "    函数功能：加载数据\n",
    "    参数说明：\n",
    "            None\n",
    "    函数返回：\n",
    "            相应数据\n",
    "    '''\n",
    "    return np.array([\n",
    "        [1, 1, 1, 0, 0],\n",
    "        [2, 2, 2, 0, 0],\n",
    "        [1, 1, 1, 0, 0],\n",
    "        [5, 5, 5, 0, 0],\n",
    "        [1, 1, 0, 2, 2],\n",
    "        [0, 0, 0, 3, 3],\n",
    "        [0, 0, 0, 1, 1]\n",
    "    ])#为了方便运算，使用array格式\n",
    "\n",
    "Data = loadExData()\n",
    "m = Data.shape[0]#矩阵的行数\n",
    "n = Data.shape[1]#矩阵的列数\n",
    "U,Sigma,VT = linalg.svd(Data)#调用linalg中封装好的svd函数"
   ]
  },
  {
   "cell_type": "markdown",
   "metadata": {},
   "source": [
    "奇异值越大的时候，代表的信息越多，可以观察到后两个数值非常小，我们可以将它们去掉，那么原始数据集$Data$与分解出来的矩阵$U 、\\Sigma和V^T$的关系就变成了近似关系。\n",
    "\n",
    "即:\n",
    "\n",
    "$$Data_{m \\times n} \\approx U_{m \\times m}\\Sigma_{m \\times n}V^T_{n \\times n}$$\n",
    "\n",
    "但是就算后面的数值再小，当我们去掉越多这样奇异值，我们的近似关系会变得不理想。\n",
    "\n",
    "不过，我们可以观察到，奇异值是下降非常快的。一般来说取前30%左右的奇异值就能还原绝大部分的数据。我们也可以根据我们想要保留的数据程度选择奇异值的数量，这跟PCA非常相似。\n",
    "\n",
    "我们去除后面两个奇异值之后，采用前面三个奇异值来重新构建$Data$"
   ]
  },
  {
   "cell_type": "code",
   "execution_count": 3,
   "metadata": {},
   "outputs": [
    {
     "data": {
      "text/plain": [
       "matrix([[ 1.00000000e+00,  1.00000000e+00,  1.00000000e+00,\n",
       "         -2.84366098e-16, -2.94015497e-16],\n",
       "        [ 2.00000000e+00,  2.00000000e+00,  2.00000000e+00,\n",
       "          4.47489534e-16,  4.28190736e-16],\n",
       "        [ 1.00000000e+00,  1.00000000e+00,  1.00000000e+00,\n",
       "          3.09573758e-16,  2.99924358e-16],\n",
       "        [ 5.00000000e+00,  5.00000000e+00,  5.00000000e+00,\n",
       "         -1.47703573e-16, -1.95842150e-16],\n",
       "        [ 1.00000000e+00,  1.00000000e+00, -5.70229711e-16,\n",
       "          2.00000000e+00,  2.00000000e+00],\n",
       "        [-7.49390630e-17,  9.96896569e-16, -1.34350906e-15,\n",
       "          3.00000000e+00,  3.00000000e+00],\n",
       "        [-8.18314124e-17,  2.75447132e-16, -3.13743829e-16,\n",
       "          1.00000000e+00,  1.00000000e+00]])"
      ]
     },
     "execution_count": 3,
     "metadata": {},
     "output_type": "execute_result"
    }
   ],
   "source": [
    "#构建奇异值矩阵\n",
    "Sig3 = np.mat([[Sigma[0],0,0],[0,Sigma[1],0],[0,0,Sigma[2]]])\n",
    "#因为上面用的是np.mat构建的矩阵，采用*号的乘法是矩阵相乘\n",
    "U[:,:3]*Sig3*VT[:3,:]"
   ]
  },
  {
   "cell_type": "markdown",
   "metadata": {},
   "source": [
    "由于$Sig$只是$3x3$矩阵，因此也只需要使用矩阵$U$的前$3$列与$V^T$的前三行。可以看到重构出来的矩阵与原始矩阵的数值非常接近。\n",
    "\n",
    "如果你不理解为什么只需要使用矩阵$U$的前$3$列与$V^T$的前三行，也可以看下面的代码，我们沿用上面重构矩阵的代码展示Sigma的值。\n",
    "\n",
    "可以看到Sigma应该是一个$m \\times n$矩阵，但是只有左上角才存在值其余都为零。显然，一整列或行都是零的话，在矩阵相乘运算中得到的结果也是零，对结果不产生影响 。因此可以取矩阵$U$的前$3$列与$V^T$的前三行简化计算，也可以节省空间。"
   ]
  },
  {
   "cell_type": "code",
   "execution_count": 4,
   "metadata": {},
   "outputs": [
    {
     "name": "stdout",
     "output_type": "stream",
     "text": [
      "[[9.72140007 0.         0.         0.         0.        ]\n",
      " [0.         5.29397912 0.         0.         0.        ]\n",
      " [0.         0.         0.68422636 0.         0.        ]\n",
      " [0.         0.         0.         0.         0.        ]\n",
      " [0.         0.         0.         0.         0.        ]\n",
      " [0.         0.         0.         0.         0.        ]\n",
      " [0.         0.         0.         0.         0.        ]]\n"
     ]
    },
    {
     "data": {
      "text/plain": [
       "array([[ 1.00000000e+00,  1.00000000e+00,  1.00000000e+00,\n",
       "        -2.84366098e-16, -2.94015497e-16],\n",
       "       [ 2.00000000e+00,  2.00000000e+00,  2.00000000e+00,\n",
       "         4.47489534e-16,  4.28190736e-16],\n",
       "       [ 1.00000000e+00,  1.00000000e+00,  1.00000000e+00,\n",
       "         3.09573758e-16,  2.99924358e-16],\n",
       "       [ 5.00000000e+00,  5.00000000e+00,  5.00000000e+00,\n",
       "        -1.47703573e-16, -1.95842150e-16],\n",
       "       [ 1.00000000e+00,  1.00000000e+00, -5.70229711e-16,\n",
       "         2.00000000e+00,  2.00000000e+00],\n",
       "       [-7.49390630e-17,  9.96896569e-16, -1.34350906e-15,\n",
       "         3.00000000e+00,  3.00000000e+00],\n",
       "       [-8.18314124e-17,  2.75447132e-16, -3.13743829e-16,\n",
       "         1.00000000e+00,  1.00000000e+00]])"
      ]
     },
     "execution_count": 4,
     "metadata": {},
     "output_type": "execute_result"
    }
   ],
   "source": [
    "Sig = Sigma[:3]#取前3个特征值\n",
    "if m > n:\n",
    "    for i in range(m - len(Sig)):\n",
    "        Sig = np.append(Sig,0)\n",
    "else:\n",
    "    for i in range(n - len(Sig)):\n",
    "        Sig = np.append(Sig,0)\n",
    "print(np.diag(Sig)[:m,:n])\n",
    "np.dot(np.dot(U,np.diag(Sig)[:m,:n]),VT)#现在的数据类型是numpy.array,所以要用np.dot()进行矩阵乘法"
   ]
  },
  {
   "cell_type": "markdown",
   "metadata": {},
   "source": [
    "可以看到两种计算方法得出的结果是一致的，而且显然U[:,:3]*Sig3*VT[:3,:]需要的存储空间、运算次数都要比np.dot(np.dot(U,np.diag(Sig)[:m,:n]),VT)少，因此是推荐使用U[:,:3]*Sig3*VT[:3,:]来进行计算。"
   ]
  },
  {
   "cell_type": "markdown",
   "metadata": {},
   "source": [
    "# 基于协同过滤的推荐引擎\n",
    "在聚类的时候，我们知道，非常相近或相似的数据容易被归成一类。在这里，我们也可以通过计算用户或物品之间的相似度，得到用户或物品之间的相似度。这样就可以预测到未知的用户的喜好。比如,我们尝试对某个用户喜欢的电影进行预测，推荐引擎会发现有一部电影该用户没看过，然后计算该电影与用户看过的电影之间的相似度，如果其相似度很高，推荐算法就认为用户喜欢这部电影。\n",
    "\n",
    "所以我们得先了解一下相似度应该怎么计算。\n",
    "\n",
    "在聚类当中，相似度可以通过距离来体现。在这里也是如此。最常见的距离度量就是欧氏距离。\n",
    "对于下面这个矩阵：\n",
    "\n",
    "$\\begin{matrix} & 鳗鱼饭 & 日式炸鸡排 &  寿司饭 & 烤牛肉 & 手撕猪肉 \\\\\n",
    "Jim & 2 & 0 & 0 & 4 & 4\\\\\n",
    "John & 5 & 5 & 5 & 3 & 3 \\\\\n",
    "Sally & 2 & 4 & 2 & 1 & 2 \\\\\n",
    "\\end{matrix}$\n",
    "\n",
    "我们用欧氏距离来计算手撕猪肉和烤牛肉之间的相似度：\n",
    "\n",
    "$$\\sqrt{(4-4)^2+(3-3)^2+(2-1)^2} = 1$$\n",
    "\n",
    "而手撕猪肉和鳗鱼饭的欧氏距离为：\n",
    "\n",
    "$$\\sqrt{(4-2)^2+(3-5)^2+(2-2)^2} = 2.83$$\n",
    "\n",
    "我们可以将距离归一化到$(0,1]$之间。当距离为$0$时，相似度为$1$.如果距离非常大，那么相似度也趋于$0$.\n",
    "\n",
    "$$相似度 = \\frac{1}{1+距离}$$\n",
    "\n",
    "第二种可以用来计算距离的方法是皮尔逊相关系数。皮尔逊系数相对于欧氏距离有个优势在于，它对用户评级的量级不敏感。比如说一个人对所有物品的评分都是5分，而另一个人对所有物品的评分是1分，皮尔逊相关系数会认为这两个向量是相等的。皮尔逊相关系数的取值范围在$[-1,+1]$之间，我们用$0.5+0.5*corrcoef()$计算它并将它归一化到0到1之间。\n",
    "\n",
    "第三种则是余弦相似度，它计算两个向量夹角的余弦值，如果夹角为$90^o$，则相似度为0;如果两个向量的方向相同，其相似度就为$1$。余弦相似度的取值范围也在$-1$到$1$之间\n",
    "\n",
    "向量$A$与$B$夹角的余弦相似度计算如下：\n",
    "$$cos\\theta = \\frac{A\\cdot B}{\\left\\|A\\right\\|\\left\\|B\\right\\|}$$\n",
    "\n",
    "$\\left\\|A\\right\\|$、$\\left\\|B\\right\\|$表示向量$A、B$的$2$范数.我们可以使用linalg.norm()来计算它\n",
    "\n",
    "这三种计算相似度的方法如下："
   ]
  },
  {
   "cell_type": "code",
   "execution_count": 5,
   "metadata": {},
   "outputs": [],
   "source": [
    "def ecludSim(inA,inB):\n",
    "    '''\n",
    "    函数功能：计算欧氏距离相似度\n",
    "    参数说明：\n",
    "            inA__输入的向量A\n",
    "            inB__输入的向量B\n",
    "    函数返回：\n",
    "            两个向量之间的欧氏距离\n",
    "    '''\n",
    "    return 1.0/(1.0 + linalg.norm(inA - inB))\n",
    "\n",
    "def pearsSim(inA,inB):\n",
    "    '''\n",
    "    函数功能：计算皮尔逊相似度，并将其归一化\n",
    "    参数说明：\n",
    "            inA__输入的向量A\n",
    "            inB__输入的向量B\n",
    "    函数返回：\n",
    "            两个向量之间的归一化的皮尔逊系数\n",
    "    '''\n",
    "    if len(inA) < 3 : \n",
    "        return 1.0\n",
    "    return 0.5 + 0.5 * np.corrcoef(inA, inB, rowvar = 0)[0][1]\n",
    "\n",
    "def cosSim(inA,inB):\n",
    "    '''\n",
    "    函数功能：计算余弦逊相似度，并将其归一化\n",
    "    参数说明：\n",
    "            inA__输入的向量A\n",
    "            inB__输入的向量B\n",
    "    函数返回：\n",
    "            两个向量之间的归一化的余弦相似度\n",
    "    '''\n",
    "    num = float(inA.T*inB)\n",
    "    denom = linalg.norm(inA)*linalg.norm(inB)\n",
    "    return 0.5+0.5*(num/denom)"
   ]
  },
  {
   "cell_type": "markdown",
   "metadata": {},
   "source": [
    "ecludSim()函数是用来计算欧氏距离相似度的。\n",
    "\n",
    "pearSim()函数则是用来计算皮尔逊相关系数，并且将其归一化到0和1之间。有些人可能不明白，为什么len(inA)<3会返回1。\n",
    "首先需要知道皮尔逊相关系数可以表示两个变量的相关程度，大于0为正相关，小于0为负相关。当皮尔逊系数为1时，这两个变量完全正相关;当皮尔逊系数为-1时，这两个变量完全负相关。而当这个变量只有两个数的时候，这个变量要么是递增，要么是递减的，同理另一个变量也是如此。所以这两个变量要么是完全负相关，要么是完全正相关。因此返回1。(如果有个变量是没有变化的，那标准差为0，无法计算皮尔逊相关系数)\n",
    "\n",
    "cosSim()则是用来计算余弦相似度\n",
    "\n",
    "下面来对这些计算方法进行尝试"
   ]
  },
  {
   "cell_type": "code",
   "execution_count": 6,
   "metadata": {},
   "outputs": [],
   "source": [
    "myMat = np.mat(loadExData())"
   ]
  },
  {
   "cell_type": "code",
   "execution_count": 7,
   "metadata": {},
   "outputs": [
    {
     "data": {
      "text/plain": [
       "0.13367660240019172"
      ]
     },
     "execution_count": 7,
     "metadata": {},
     "output_type": "execute_result"
    }
   ],
   "source": [
    "ecludSim(myMat[:,0],myMat[:,4])"
   ]
  },
  {
   "cell_type": "code",
   "execution_count": 8,
   "metadata": {},
   "outputs": [
    {
     "data": {
      "text/plain": [
       "1.0"
      ]
     },
     "execution_count": 8,
     "metadata": {},
     "output_type": "execute_result"
    }
   ],
   "source": [
    "ecludSim(myMat[:,0],myMat[:,0])"
   ]
  },
  {
   "cell_type": "code",
   "execution_count": 9,
   "metadata": {},
   "outputs": [
    {
     "data": {
      "text/plain": [
       "0.5472455591261534"
      ]
     },
     "execution_count": 9,
     "metadata": {},
     "output_type": "execute_result"
    }
   ],
   "source": [
    "cosSim(myMat[:,0],myMat[:,4])"
   ]
  },
  {
   "cell_type": "code",
   "execution_count": 10,
   "metadata": {},
   "outputs": [
    {
     "data": {
      "text/plain": [
       "0.9999999999999999"
      ]
     },
     "execution_count": 10,
     "metadata": {},
     "output_type": "execute_result"
    }
   ],
   "source": [
    "cosSim(myMat[:,0],myMat[:,0])"
   ]
  },
  {
   "cell_type": "code",
   "execution_count": 11,
   "metadata": {},
   "outputs": [
    {
     "data": {
      "text/plain": [
       "0.23768619407595815"
      ]
     },
     "execution_count": 11,
     "metadata": {},
     "output_type": "execute_result"
    }
   ],
   "source": [
    "pearsSim(myMat[:,0],myMat[:,4])"
   ]
  },
  {
   "cell_type": "code",
   "execution_count": 12,
   "metadata": {},
   "outputs": [
    {
     "data": {
      "text/plain": [
       "1.0"
      ]
     },
     "execution_count": 12,
     "metadata": {},
     "output_type": "execute_result"
    }
   ],
   "source": [
    "pearsSim(myMat[:,0],myMat[:,0])"
   ]
  },
  {
   "cell_type": "markdown",
   "metadata": {},
   "source": [
    "那计算相似度的方法有了，接下来是计算用户相似度或物品相似度。那么我们究竟要基于物品的相似度还是基于用户的相似度构建我们的推荐引擎呢？相似度计算的时间会随着数据的增大而增大，如果用户的数目非常多，那么就可能会选择基于物品相似度的计算方法。\n",
    "\n",
    "对于大部分产品导向的推荐引擎而言，用户的数量往往大于物品的数量。我们可以根据需求选择。\n",
    "\n",
    "那么推荐引擎的好坏该用什么评价呢？我们可以对一些人的评分进行遮掩，然后对其进行预测，最后计算预测值与真实值之间的差距。书中所用的评价指标是$最小均方根误差(Root Mean Squared，RMSE)$，它先计算均方误差的平均值再对其取平方根。如果评级在1到5星这个范围内，而RMSE为1，那么意味着我们的预测值和用户的真实值相差了1星。"
   ]
  },
  {
   "cell_type": "markdown",
   "metadata": {},
   "source": [
    "# 示例：餐馆菜肴推荐引擎\n",
    "我们先来构建一个基本的推荐引擎，它可以寻找用户没有尝过的菜肴，然后通过SVD来减少特征空间，并提高推荐的效果。\n",
    "\n",
    "这个推荐系统的工作过程是：\n",
    "\n",
    "(1)寻找用户没有评级的菜肴，即用户-物品矩阵中的0值\n",
    "\n",
    "(2)在用户没有评级的所有物品当中，对每一个物品预计一个可能的评级分数。\n",
    "\n",
    "(3)对这些物品的评分从高到低进行排序，返回前$N$个物品\n",
    "\n",
    "代码如下："
   ]
  },
  {
   "cell_type": "code",
   "execution_count": 13,
   "metadata": {},
   "outputs": [],
   "source": [
    "def standEst(dataMat, user, simMeas, item):\n",
    "    '''\n",
    "    函数功能：通过物品评分的相似度来计算用户未评分过的物品\n",
    "    参数说明：\n",
    "            dataMat__用户-物品评分矩阵\n",
    "            user__第user个用户(从0开始算)\n",
    "            simMeas__计算相似度的函数，默认是cosSim()\n",
    "            item__该用户未进行评分的物品\n",
    "    函数返回：\n",
    "            item的分数\n",
    "    '''\n",
    "    #item是该user还未评分的物品，j则是该user已评分的物品。通过计算与其他用户评分的相似度，得出该user还未评分的相似。\n",
    "    n = np.shape(dataMat)[1]#物品数量\n",
    "    simTotal = 0.0#相似度总和\n",
    "    ratSimTotal = 0.0#评分总和\n",
    "    for j in range(n):\n",
    "        print(item,j)\n",
    "        #user对第j个物品的评分\n",
    "        userRating = dataMat[user,j]\n",
    "        #为0则跳出本次循环\n",
    "        if userRating == 0: \n",
    "            continue\n",
    "        #overlap是两个物品当中已经被评分的用户\n",
    "        overLap = np.nonzero(np.logical_and(dataMat[:,item].A>0, dataMat[:,j].A>0))[0]\n",
    "        #如果没有user未评分的物品评过分的用户，那么similarity是0\n",
    "        if len(overLap) == 0:\n",
    "            similarity = 0\n",
    "        else:\n",
    "            #基于这些重合的物品计算用户与user之间的相似度\n",
    "            similarity = simMeas(dataMat[overLap,item], dataMat[overLap,j])\n",
    "        print('the %d and %d similarity is: %f' % (item, j, similarity))\n",
    "        #计算总相似度\n",
    "        simTotal += similarity\n",
    "        #相似度乘上userRating\n",
    "        ratSimTotal += similarity * userRating\n",
    "\n",
    "    if simTotal == 0:\n",
    "        return 0\n",
    "    else:\n",
    "        print('uR',ratSimTotal/simTotal)\n",
    "        #除以总相似度\n",
    "        return ratSimTotal/simTotal\n",
    "\n",
    "def recommend(dataMat, user, N=3, simMeas=cosSim, estMethod=standEst):\n",
    "    '''\n",
    "    函数功能：通过物品评分的相似度来计算用户未评分过的物品，并返回分数最高的前N个物品\n",
    "    参数说明：\n",
    "            dataMat__用户-物品评分矩阵\n",
    "            user__第user个用户(从0开始算)\n",
    "            N__分数最高的前N个物品\n",
    "            simMeas__计算相似度的函数，默认是cosSim()\n",
    "            estMethod__计算未评分物品相似度的函数，默认是standEst()\n",
    "    函数返回：\n",
    "            分数最高的前N个物品\n",
    "    '''\n",
    "    unratedItems = np.nonzero(dataMat[user,:].A==0)[1]#find unrated items \n",
    "    if len(unratedItems) == 0:\n",
    "        return 'you rated everything'\n",
    "    itemScores = []\n",
    "    for item in unratedItems:\n",
    "        estimatedScore = estMethod(dataMat, user, simMeas, item)\n",
    "        print(estimatedScore)\n",
    "        itemScores.append((item, estimatedScore))\n",
    "    return sorted(itemScores, key=lambda jj: jj[1], reverse=True)[:N]"
   ]
  },
  {
   "cell_type": "code",
   "execution_count": 14,
   "metadata": {},
   "outputs": [
    {
     "data": {
      "text/plain": [
       "matrix([[4, 4, 0, 2, 2],\n",
       "        [4, 0, 0, 3, 3],\n",
       "        [4, 0, 0, 1, 1],\n",
       "        [1, 1, 1, 2, 0],\n",
       "        [2, 2, 2, 0, 0],\n",
       "        [1, 1, 1, 0, 0],\n",
       "        [5, 5, 5, 0, 0]])"
      ]
     },
     "execution_count": 14,
     "metadata": {},
     "output_type": "execute_result"
    }
   ],
   "source": [
    "myMat = np.mat([\n",
    "    [4, 4, 0, 2, 2],\n",
    "    [4, 0, 0, 3, 3],\n",
    "    [4, 0, 0, 1, 1],\n",
    "    [1, 1, 1, 2, 0],\n",
    "    [2, 2, 2, 0, 0],\n",
    "    [1, 1, 1, 0, 0],\n",
    "    [5, 5, 5, 0, 0]\n",
    "])\n",
    "myMat"
   ]
  },
  {
   "cell_type": "code",
   "execution_count": 15,
   "metadata": {},
   "outputs": [
    {
     "name": "stdout",
     "output_type": "stream",
     "text": [
      "1 0\n",
      "the 1 and 0 similarity is: 1.000000\n",
      "1 1\n",
      "1 2\n",
      "1 3\n",
      "the 1 and 3 similarity is: 0.928746\n",
      "1 4\n",
      "the 1 and 4 similarity is: 1.000000\n",
      "uR 2.0243290220056256\n",
      "2.0243290220056256\n",
      "2 0\n",
      "the 2 and 0 similarity is: 1.000000\n",
      "2 1\n",
      "2 2\n",
      "2 3\n",
      "the 2 and 3 similarity is: 1.000000\n",
      "2 4\n",
      "the 2 and 4 similarity is: 0.000000\n",
      "uR 2.5\n",
      "2.5\n"
     ]
    },
    {
     "data": {
      "text/plain": [
       "[(2, 2.5), (1, 2.0243290220056256)]"
      ]
     },
     "execution_count": 15,
     "metadata": {},
     "output_type": "execute_result"
    }
   ],
   "source": [
    "recommend(myMat,2)"
   ]
  },
  {
   "cell_type": "code",
   "execution_count": 16,
   "metadata": {},
   "outputs": [
    {
     "name": "stdout",
     "output_type": "stream",
     "text": [
      "1 0\n",
      "the 1 and 0 similarity is: 1.000000\n",
      "1 1\n",
      "1 2\n",
      "1 3\n",
      "the 1 and 3 similarity is: 0.309017\n",
      "1 4\n",
      "the 1 and 4 similarity is: 0.333333\n",
      "uR 2.8266504712098603\n",
      "2.8266504712098603\n",
      "2 0\n",
      "the 2 and 0 similarity is: 1.000000\n",
      "2 1\n",
      "2 2\n",
      "2 3\n",
      "the 2 and 3 similarity is: 0.500000\n",
      "2 4\n",
      "the 2 and 4 similarity is: 0.000000\n",
      "uR 3.0\n",
      "3.0\n"
     ]
    },
    {
     "data": {
      "text/plain": [
       "[(2, 3.0), (1, 2.8266504712098603)]"
      ]
     },
     "execution_count": 16,
     "metadata": {},
     "output_type": "execute_result"
    }
   ],
   "source": [
    "recommend(myMat,2,simMeas=ecludSim)"
   ]
  },
  {
   "cell_type": "code",
   "execution_count": 17,
   "metadata": {},
   "outputs": [
    {
     "name": "stdout",
     "output_type": "stream",
     "text": [
      "1 0\n",
      "the 1 and 0 similarity is: 1.000000\n",
      "1 1\n",
      "1 2\n",
      "1 3\n",
      "the 1 and 3 similarity is: 1.000000\n",
      "1 4\n",
      "the 1 and 4 similarity is: 1.000000\n",
      "uR 2.0\n",
      "2.0\n",
      "2 0\n",
      "the 2 and 0 similarity is: 1.000000\n",
      "2 1\n",
      "2 2\n",
      "2 3\n",
      "the 2 and 3 similarity is: 1.000000\n",
      "2 4\n",
      "the 2 and 4 similarity is: 0.000000\n",
      "uR 2.5\n",
      "2.5\n"
     ]
    },
    {
     "data": {
      "text/plain": [
       "[(2, 2.5), (1, 2.0)]"
      ]
     },
     "execution_count": 17,
     "metadata": {},
     "output_type": "execute_result"
    }
   ],
   "source": [
    "recommend(myMat,2,simMeas=pearsSim)"
   ]
  },
  {
   "cell_type": "markdown",
   "metadata": {},
   "source": [
    "有些人可能不理解为什么similarity * userRating可以计算出$user$未评分的物品的分数\n",
    "\n",
    "对于上面这个矩阵\n",
    "\n",
    "$\\begin{matrix}\n",
    " &j& item & &  &\\\\\n",
    " &\\textbf{4} & \\textbf{4} & 0 & 2 & 2\\\\\n",
    " &\\textbf{4} & 0 & 0 & 3 & 3\\\\\n",
    " user&\\textbf{4} & 0 & 0 & 1 & 1\\\\\n",
    " &\\textbf{1} & \\textbf{1} & 1 & 2 & 0\\\\\n",
    " &\\textbf{2} & \\textbf{2} & 2 & 0 & 0\\\\\n",
    " &\\textbf{1} & \\textbf{1} & 1 & 0 & 0\\\\\n",
    " &\\textbf{5} & \\textbf{5} & 5 & 0 & 0\\\\\n",
    "\\end{matrix}$\n",
    "\n",
    "我们找出一个样例来看一下\n",
    "\n",
    "对于user=2,item=1,j=0的情况，userRating的值应该是4。\n",
    "\n",
    "similarity是指物品j与物品item之间的相似度。\n",
    "\n",
    "假如说物品j与物品item是一模一样的，那么按道理两者的评分应该相同。同理，两个物品越相似，评分就应该越接近。\n",
    "\n",
    "所以应有：\n",
    "\n",
    "$$item分数 \\approx userRating * similarity$$\n",
    "\n",
    "至于为什么要计算多个物品，这是因为结果可以足够稳定。"
   ]
  },
  {
   "cell_type": "markdown",
   "metadata": {},
   "source": [
    "# 利用SVD提高推荐的效果\n",
    "\n",
    "实际上，在运用中的数据集会的零的个数远远大于现在举的例子。比如某宝数十万的商品，大多数人购买过的不过数十种。对于如此稀疏的矩阵，就这样运行，速度会非常非常慢。\n",
    "\n",
    "你还记得SVD可以简化数据的功能吗？我们可以对这个数据用SVD进行简化，得到一个更小的矩阵。\n",
    "\n",
    "对于下面这个矩阵\n",
    "\n",
    "$\\begin{matrix} & 鳗鱼饭 & 日式炸鸡排 &  寿司饭 & 烤牛肉 & 三文鱼汉堡 & 鲁滨三明治 & 印度烤鸡 & 麻婆豆腐 & 宫保鸡丁 & 印度奶酪咖喱 & 俄式汉堡\\\\\n",
    "Brett & 2 & 0 & 0 & 4 & 4 & 0 & 0 & 0 & 0 & 0 & 0 \\\\\n",
    "Rob  & 0 & 0 & 0 & 0 & 0 & 0 & 0 & 0 & 0 & 0 & 5 \\\\\n",
    "Drew & 0 & 0 & 0 & 0 & 0 & 0 & 0 & 1 & 0 & 4 & 0 \\\\\n",
    "Scott & 3 & 3 & 4 & 0 & 3 & 0 & 0 & 2 & 2 & 0 & 0 \\\\\n",
    "Mary & 5 & 5 & 5 & 0 & 0 & 0 & 0 & 0 & 0 & 0 & 0 \\\\\n",
    "Brent & 0 & 0 & 0 & 0 & 0 & 0 & 5 & 0 & 0 & 5 & 0 \\\\\n",
    "Kyle & 4 & 0 & 4 & 0 & 0 & 0 & 0 & 0 & 0 & 0 & 5 \\\\\n",
    "Sara & 0 & 0 & 0 & 0 & 0 & 4 & 0 & 0 & 0 & 0 & 4 \\\\\n",
    "Shaney & 0 & 0 & 0 & 0 & 0 & 0 & 5 & 0 & 0 & 5 & 0 \\\\\n",
    "Brendan & 0 & 0 & 0 & 3 & 0 & 0 & 0 & 0 & 4 & 5 & 0 \\\\\n",
    "Leanna & 1 & 1 & 2 & 1 & 1 & 2 & 1 & 0 & 4 & 5 & 0 \\\\\n",
    "\\end{matrix}$\n",
    "\n",
    "我用书上的数据以及作者提供的loadExData2()中的数据进行了尝试，并未得出跟书中一致的结果，但我们也能明白作者的意思。"
   ]
  },
  {
   "cell_type": "code",
   "execution_count": 18,
   "metadata": {},
   "outputs": [],
   "source": [
    "Data = np.mat([\n",
    "    [2 , 0 , 0 , 4 , 4 , 0 , 0 , 0 , 0 , 0 , 0],\n",
    "    [0 , 0 , 0 , 0 , 0 , 0 , 0 , 0 , 0 , 0 , 5],\n",
    "    [0 , 0 , 0 , 0 , 0 , 0 , 0 , 1 , 0 , 4 , 0],\n",
    "    [3 , 3 , 4 , 0 , 3 , 0 , 0 , 2 , 2 , 0 , 0],\n",
    "    [5 , 5 , 5 , 0 , 0 , 0 , 0 , 0 , 0 , 0 , 0],\n",
    "    [0 , 0 , 0 , 0 , 0 , 0 , 5 , 0 , 0 , 5 , 0],\n",
    "    [4 , 0 , 4 , 0 , 0 , 0 , 0 , 0 , 0 , 0 , 5],\n",
    "    [0 , 0 , 0 , 0 , 0 , 4 , 0 , 0 , 0 , 0 , 4],\n",
    "    [0 , 0 , 0 , 0 , 0 , 0 , 5 , 0 , 0 , 5 , 0],\n",
    "    [0 , 0 , 0 , 3 , 0 , 0 , 0 , 0 , 4 , 5 , 0],\n",
    "    [1 , 1 , 2 , 1 , 1 , 2 , 1 , 0 , 4 , 5 , 0]\n",
    "])"
   ]
  },
  {
   "cell_type": "code",
   "execution_count": 19,
   "metadata": {},
   "outputs": [],
   "source": [
    "U,Sigma,VT = linalg.svd(Data)"
   ]
  },
  {
   "cell_type": "code",
   "execution_count": 20,
   "metadata": {},
   "outputs": [
    {
     "data": {
      "text/plain": [
       "array([1.34342819e+01, 1.18190832e+01, 8.20176076e+00, 6.86912480e+00,\n",
       "       5.29063022e+00, 3.91213561e+00, 2.94562509e+00, 2.35486137e+00,\n",
       "       2.08702082e+00, 7.08715931e-01, 9.55177878e-17])"
      ]
     },
     "execution_count": 20,
     "metadata": {},
     "output_type": "execute_result"
    }
   ],
   "source": [
    "Sigma"
   ]
  },
  {
   "cell_type": "code",
   "execution_count": 21,
   "metadata": {},
   "outputs": [],
   "source": [
    "Sig2 = Sigma ** 2"
   ]
  },
  {
   "cell_type": "code",
   "execution_count": 22,
   "metadata": {},
   "outputs": [
    {
     "data": {
      "text/plain": [
       "496.99999999999983"
      ]
     },
     "execution_count": 22,
     "metadata": {},
     "output_type": "execute_result"
    }
   ],
   "source": [
    "np.sum(Sig2)"
   ]
  },
  {
   "cell_type": "code",
   "execution_count": 23,
   "metadata": {},
   "outputs": [
    {
     "data": {
      "text/plain": [
       "447.29999999999984"
      ]
     },
     "execution_count": 23,
     "metadata": {},
     "output_type": "execute_result"
    }
   ],
   "source": [
    "np.sum(Sig2)*0.90"
   ]
  },
  {
   "cell_type": "code",
   "execution_count": 24,
   "metadata": {},
   "outputs": [
    {
     "data": {
      "text/plain": [
       "320.17065834028847"
      ]
     },
     "execution_count": 24,
     "metadata": {},
     "output_type": "execute_result"
    }
   ],
   "source": [
    "np.sum(Sig2[:2])"
   ]
  },
  {
   "cell_type": "code",
   "execution_count": 25,
   "metadata": {},
   "outputs": [
    {
     "data": {
      "text/plain": [
       "462.615181528794"
      ]
     },
     "execution_count": 25,
     "metadata": {},
     "output_type": "execute_result"
    }
   ],
   "source": [
    "np.sum(Sig2[:5])"
   ]
  },
  {
   "cell_type": "markdown",
   "metadata": {},
   "source": [
    "在这里我们要取前五个奇异值才能还原原数据的90%。然后我们把这11维的矩阵转换成一个5维的矩阵。在这个五维空间里构建一个相似度计算函数。通过计算\n",
    "\n",
    "代码如下："
   ]
  },
  {
   "cell_type": "code",
   "execution_count": 26,
   "metadata": {},
   "outputs": [],
   "source": [
    "def svdEst(dataMat, user, simMeas, item):\n",
    "    '''\n",
    "    函数功能：对数据进行降维，然后通过物品评分的相似度来计算用户未评分过的物品\n",
    "    参数说明：\n",
    "            dataMat__用户-物品评分矩阵\n",
    "            user__第user个用户(从0开始算)\n",
    "            simMeas__计算相似度的函数，默认是cosSim()\n",
    "            item__该用户未进行评分的物品\n",
    "    函数返回：\n",
    "            item的分数\n",
    "    '''\n",
    "    n = np.shape(dataMat)[1]\n",
    "    simTotal = 0.0\n",
    "    ratSimTotal = 0.0\n",
    "    U,Sigma,VT = linalg.svd(dataMat)\n",
    "    Sig5 = np.mat(np.eye(5)*Sigma[:5])\n",
    "    xformedItems = dataMat.T * U[:,:5] * Sig5.I#将物品转换到低维空间中 Sig5.I是Sig5矩阵的逆矩阵，即对角元素的倒数\n",
    "    #下面这部分计算与standEst()函数的计算步骤几乎相同\n",
    "    for j in range(n):\n",
    "        userRating = dataMat[user,j]\n",
    "        if userRating == 0 or j==item:\n",
    "            continue\n",
    "        similarity = simMeas(xformedItems[item,:].T, xformedItems[j,:].T)\n",
    "        print('the %d and %d similarity is: %f' % (item, j, similarity))\n",
    "        simTotal += similarity\n",
    "        ratSimTotal += similarity * userRating\n",
    "    if simTotal == 0:\n",
    "        return 0\n",
    "    else:\n",
    "        return ratSimTotal/simTotal"
   ]
  },
  {
   "cell_type": "code",
   "execution_count": 27,
   "metadata": {
    "scrolled": true
   },
   "outputs": [
    {
     "name": "stdout",
     "output_type": "stream",
     "text": [
      "the 3 and 0 similarity is: 0.582761\n",
      "the 3 and 1 similarity is: 0.342510\n",
      "the 3 and 2 similarity is: 0.374128\n",
      "the 3 and 4 similarity is: 0.951521\n",
      "the 3 and 7 similarity is: 0.631617\n",
      "the 3 and 8 similarity is: 0.637466\n",
      "2.745751598145099\n",
      "the 5 and 0 similarity is: 0.413406\n",
      "the 5 and 1 similarity is: 0.398870\n",
      "the 5 and 2 similarity is: 0.536319\n",
      "the 5 and 4 similarity is: 0.344640\n",
      "the 5 and 7 similarity is: 0.422636\n",
      "the 5 and 8 similarity is: 0.803996\n",
      "2.7635805374270137\n",
      "the 6 and 0 similarity is: 0.578040\n",
      "the 6 and 1 similarity is: 0.469299\n",
      "the 6 and 2 similarity is: 0.485261\n",
      "the 6 and 4 similarity is: 0.544577\n",
      "the 6 and 7 similarity is: 0.418756\n",
      "the 6 and 8 similarity is: 0.223203\n",
      "2.9423719965834185\n",
      "the 9 and 0 similarity is: 0.443178\n",
      "the 9 and 1 similarity is: 0.509364\n",
      "the 9 and 2 similarity is: 0.516620\n",
      "the 9 and 4 similarity is: 0.448957\n",
      "the 9 and 7 similarity is: 0.573408\n",
      "the 9 and 8 similarity is: 0.738655\n",
      "2.7537467693433197\n",
      "the 10 and 0 similarity is: 0.584526\n",
      "the 10 and 1 similarity is: 0.342595\n",
      "the 10 and 2 similarity is: 0.553617\n",
      "the 10 and 4 similarity is: 0.478823\n",
      "the 10 and 7 similarity is: 0.320211\n",
      "the 10 and 8 similarity is: 0.456105\n",
      "2.918600629001803\n"
     ]
    },
    {
     "data": {
      "text/plain": [
       "[(6, 2.9423719965834185), (10, 2.918600629001803), (5, 2.7635805374270137)]"
      ]
     },
     "execution_count": 27,
     "metadata": {},
     "output_type": "execute_result"
    }
   ],
   "source": [
    "recommend(Data,3,estMethod=svdEst)#推荐给uesr3的物品"
   ]
  },
  {
   "cell_type": "markdown",
   "metadata": {},
   "source": [
    "有些人可能不太理解xformedItems = dataMat.T * U[:,:5] * Sig5.I为什么可以将数据转换到低维空间。\n",
    "\n",
    "我们知道dataMat是原始数据，U是左奇异矩阵，Sig是奇异值。我们也知道左奇异矩阵是单位正交矩阵，因此上面的运算可以看成是原始数据通过左奇异矩阵转换到了低维空间，然后取前几个最大的特征值。做过文本检索的同学应该对此比较熟悉。\n",
    "\n",
    "还有就是我们得到的xfromedItems它的维度是n \\times 5的。在这个时候行是代表物品而非用户，所以xformedItems[item,:].T与xformedItems[j,:].T计算物品的相似度。\n",
    "\n",
    "还有就是PCA和SVD都可以降维，那它们的不同之处在哪？\n",
    "\n",
    "注意到PCA先对矩阵做了中心化处理，然后再做Truncated SVD的(截断SVD)。\n",
    "\n",
    "如果矩阵本身就是中心化矩阵，那么PCA和Truncated SVD就是等价的。因此有一些库的PCA是通过SVD来实现的。\n",
    "\n",
    "构建推荐引擎还面临着一些问题\n",
    "\n",
    "首先SVD分解效率比较慢，在大型数据集上是一般是每天运行一次乃至几天运行一次。在代码中我们进行一次计算就运行了一次svd分解，这在现实中是不可能的。\n",
    "\n",
    "还有就是，实际的系统运用中用户数据中0的数目会更加的多。或许可以通过存储非零元素节省内存和计算开销。如：稀疏矩阵的三元组存储法。\n",
    "\n",
    "除此之外，我们的程序在需要一个推荐得分时，都要计算多个物品的相似度得分。在实际上，一个普遍的做法是离线计算并保存相似度得分。\n",
    "\n",
    "最大的问题是如何在缺乏数据的时候给出好的推荐。这个问题称作冷启动。书中说可以将推荐看成是搜索问题。在内部表现上，不同的解决方法有所不同，但是对用户而言都是透明的。为了将推荐看成是搜索问题，我们需要用到推荐物品的属性。比如：用各种标签来标记菜肴，素食、BBQ等。同时将这些属性作为相似度计算所需要的数据，这是基于内容的推荐。"
   ]
  },
  {
   "cell_type": "markdown",
   "metadata": {},
   "source": [
    "# 示例：基于SVD的图像压缩"
   ]
  },
  {
   "cell_type": "code",
   "execution_count": 28,
   "metadata": {},
   "outputs": [],
   "source": [
    "import pandas as pd\n",
    "from pylab import *\n",
    "import matplotlib.pyplot as plt\n",
    "from IPython.core.pylabtools import figsize\n",
    "mpl.rcParams['font.sans-serif'] = ['SimHei']#将字体更换成中文字体，解决plt中文显示问题\n",
    "\n",
    "def printMat(inMat, thresh=0.8):\n",
    "    '''\n",
    "    函数功能：打印32x32的矩阵\n",
    "    参数说明：\n",
    "            inMat__输入的矩阵\n",
    "            thresh__阈值\n",
    "    函数返回：\n",
    "            None\n",
    "    '''\n",
    "    for i in range(32):\n",
    "        for k in range(32):\n",
    "            #当数字小于阈值时，返回0。当数字大于阈值时返回1。end=' '是让它不要自动换行，并且打出空格符\n",
    "            if float(inMat[i,k]) > thresh:\n",
    "                print(1,end=' ')\n",
    "            else:\n",
    "                print(0,end=' ')\n",
    "        print('')#换行\n",
    "\n",
    "def loadPicData():#为了下面调用数据方便，将其读取数据流程单独放出来\n",
    "    '''\n",
    "    函数功能：加载32x32维的数据\n",
    "    参数说明：\n",
    "            None\n",
    "    函数返回：\n",
    "            32x32维的数据\n",
    "    '''\n",
    "    myl = []\n",
    "    #打开0_5.txt文件，逐行读取\n",
    "    for line in open('0_5.txt').readlines():\n",
    "        newRow = []\n",
    "        #隔32个字符截断一次。最后得到的是32x32矩阵\n",
    "        for i in range(32):\n",
    "            newRow.append(int(line[i]))\n",
    "        myl.append(newRow)\n",
    "    return myl\n",
    "\n",
    "def imgCompress(numSV=3, thresh=0.8):\n",
    "    '''\n",
    "    函数功能：打印32x32的矩阵\n",
    "    参数说明：\n",
    "            inMat__输入的矩阵\n",
    "            thresh__阈值\n",
    "    函数返回：\n",
    "            None\n",
    "    '''\n",
    "    myl = loadPicData()\n",
    "    myMat = np.mat(myl)\n",
    "    print(\"****original matrix******\")\n",
    "    printMat(myMat, thresh)\n",
    "    U,Sigma,VT = linalg.svd(myMat)\n",
    "    #构建一个3x3零矩阵\n",
    "    SigRecon = np.mat(np.zeros((numSV, numSV)))\n",
    "    #把奇异值赋值给这个3x3的矩阵构成对角矩阵\n",
    "    for k in range(numSV):\n",
    "        SigRecon[k,k] = Sigma[k]\n",
    "    #利用numSV个奇异值重构矩阵\n",
    "    reconMat = U[:,:numSV]*SigRecon*VT[:numSV,:]\n",
    "    print(\"****reconstructed matrix using %d singular values******\" % numSV)\n",
    "    printMat(reconMat, thresh)\n",
    "    \n",
    "    #图片对比\n",
    "    plt.figure()\n",
    "    plt.subplot(1,2,1)\n",
    "    plt.imshow(myMat,cmap='gray')\n",
    "    plt.subplot(1,2,2)\n",
    "    plt.imshow(pd.DataFrame(reconMat).apply(lambda x:x>thresh),cmap='gray')\n",
    "    plt.show()"
   ]
  },
  {
   "cell_type": "code",
   "execution_count": 31,
   "metadata": {},
   "outputs": [
    {
     "name": "stdout",
     "output_type": "stream",
     "text": [
      "****original matrix******\n",
      "0 0 0 0 0 0 0 0 0 0 0 0 0 0 1 1 0 0 0 0 0 0 0 0 0 0 0 0 0 0 0 0 \n",
      "0 0 0 0 0 0 0 0 0 0 0 0 1 1 1 1 1 1 0 0 0 0 0 0 0 0 0 0 0 0 0 0 \n",
      "0 0 0 0 0 0 0 0 0 0 0 1 1 1 1 1 1 1 1 0 0 0 0 0 0 0 0 0 0 0 0 0 \n",
      "0 0 0 0 0 0 0 0 0 0 1 1 1 1 1 1 1 1 1 1 0 0 0 0 0 0 0 0 0 0 0 0 \n",
      "0 0 0 0 0 0 0 0 1 1 1 1 1 1 1 1 1 1 1 1 1 0 0 0 0 0 0 0 0 0 0 0 \n",
      "0 0 0 0 0 0 0 1 1 1 1 1 1 1 1 1 1 1 1 1 1 1 0 0 0 0 0 0 0 0 0 0 \n",
      "0 0 0 0 0 0 0 0 1 1 1 1 1 1 1 1 1 1 1 1 1 1 1 0 0 0 0 0 0 0 0 0 \n",
      "0 0 0 0 0 0 0 0 1 1 1 1 1 1 1 0 0 0 0 1 1 1 1 1 0 0 0 0 0 0 0 0 \n",
      "0 0 0 0 0 0 0 1 1 1 1 1 1 1 0 0 0 0 0 1 1 1 1 1 0 0 0 0 0 0 0 0 \n",
      "0 0 0 0 0 0 1 1 1 1 1 1 0 0 0 0 0 0 0 0 1 1 1 1 0 0 0 0 0 0 0 0 \n",
      "0 0 0 0 0 0 1 1 1 1 1 1 0 0 0 0 0 0 0 0 1 1 1 1 1 0 0 0 0 0 0 0 \n",
      "0 0 0 0 0 0 1 1 1 1 1 1 0 0 0 0 0 0 0 0 0 1 1 1 1 0 0 0 0 0 0 0 \n",
      "0 0 0 0 0 0 1 1 1 1 1 1 0 0 0 0 0 0 0 0 0 1 1 1 1 0 0 0 0 0 0 0 \n",
      "0 0 0 0 0 0 0 1 1 1 1 1 1 0 0 0 0 0 0 0 0 0 1 1 1 1 0 0 0 0 0 0 \n",
      "0 0 0 0 0 0 1 1 1 1 1 1 1 0 0 0 0 0 0 0 0 0 1 1 1 1 0 0 0 0 0 0 \n",
      "0 0 0 0 0 0 1 1 1 1 1 1 0 0 0 0 0 0 0 0 0 0 1 1 1 1 0 0 0 0 0 0 \n",
      "0 0 0 0 0 0 0 1 1 1 1 1 0 0 0 0 0 0 0 0 0 0 1 1 1 1 0 0 0 0 0 0 \n",
      "0 0 0 0 0 0 1 1 1 1 1 1 0 0 0 0 0 0 0 0 0 0 1 1 1 1 0 0 0 0 0 0 \n",
      "0 0 0 0 0 0 0 1 1 1 1 1 0 0 0 0 0 0 0 0 0 0 1 1 1 1 0 0 0 0 0 0 \n",
      "0 0 0 0 0 0 0 1 1 1 1 1 0 0 0 0 0 0 0 0 0 1 1 1 1 1 0 0 0 0 0 0 \n",
      "0 0 0 0 0 0 0 0 1 1 1 1 1 0 0 0 0 0 0 0 0 0 1 1 1 1 1 0 0 0 0 0 \n",
      "0 0 0 0 0 0 0 0 1 1 1 1 1 0 0 0 0 0 0 0 0 0 1 1 1 1 1 0 0 0 0 0 \n",
      "0 0 0 0 0 0 0 0 1 1 1 1 1 0 0 0 0 0 0 0 0 0 1 1 1 1 1 0 0 0 0 0 \n",
      "0 0 0 0 0 0 0 0 1 1 1 1 1 0 0 0 0 0 0 0 0 1 1 1 1 1 0 0 0 0 0 0 \n",
      "0 0 0 0 0 0 0 0 1 1 1 1 1 0 0 0 0 0 0 0 1 1 1 1 1 1 0 0 0 0 0 0 \n",
      "0 0 0 0 0 0 0 0 1 1 1 1 1 1 0 0 0 0 0 1 1 1 1 1 1 0 0 0 0 0 0 0 \n",
      "0 0 0 0 0 0 0 0 0 1 1 1 1 1 1 1 1 1 1 1 1 1 1 1 1 0 0 0 0 0 0 0 \n",
      "0 0 0 0 0 0 0 0 0 0 1 1 1 1 1 1 1 1 1 1 1 1 1 1 1 0 0 0 0 0 0 0 \n",
      "0 0 0 0 0 0 0 0 0 0 1 1 1 1 1 1 1 1 1 1 1 1 1 1 1 0 0 0 0 0 0 0 \n",
      "0 0 0 0 0 0 0 0 0 0 0 1 1 1 1 1 1 1 1 1 1 1 1 0 0 0 0 0 0 0 0 0 \n",
      "0 0 0 0 0 0 0 0 0 0 0 0 1 1 1 1 1 1 1 1 1 1 0 0 0 0 0 0 0 0 0 0 \n",
      "0 0 0 0 0 0 0 0 0 0 0 0 0 0 1 1 1 1 1 1 0 0 0 0 0 0 0 0 0 0 0 0 \n",
      "****reconstructed matrix using 2 singular values******\n",
      "0 0 0 0 0 0 0 0 0 0 0 0 0 0 0 0 0 0 0 0 0 0 0 0 0 0 0 0 0 0 0 0 \n",
      "0 0 0 0 0 0 0 0 0 0 0 0 0 0 0 0 0 0 0 0 0 0 0 0 0 0 0 0 0 0 0 0 \n",
      "0 0 0 0 0 0 0 0 0 0 0 0 0 1 1 1 1 1 0 0 0 0 0 0 0 0 0 0 0 0 0 0 \n",
      "0 0 0 0 0 0 0 0 0 0 0 0 1 1 1 1 1 1 1 1 0 0 0 0 0 0 0 0 0 0 0 0 \n",
      "0 0 0 0 0 0 0 0 0 0 0 1 1 1 1 1 1 1 1 1 1 0 0 0 0 0 0 0 0 0 0 0 \n",
      "0 0 0 0 0 0 0 0 0 0 1 1 1 1 1 1 1 1 1 1 1 1 0 0 0 0 0 0 0 0 0 0 \n",
      "0 0 0 0 0 0 0 0 0 0 1 1 1 1 1 1 1 1 1 1 1 1 0 0 0 0 0 0 0 0 0 0 \n",
      "0 0 0 0 0 0 0 0 0 1 1 1 1 0 0 0 0 0 0 0 0 0 1 0 0 0 0 0 0 0 0 0 \n",
      "0 0 0 0 0 0 0 0 1 1 1 1 0 0 0 0 0 0 0 0 0 0 1 1 0 0 0 0 0 0 0 0 \n",
      "0 0 0 0 0 0 0 0 1 1 1 1 0 0 0 0 0 0 0 0 0 0 1 1 1 0 0 0 0 0 0 0 \n",
      "0 0 0 0 0 0 0 0 1 1 1 1 0 0 0 0 0 0 0 0 0 0 1 1 1 0 0 0 0 0 0 0 \n",
      "0 0 0 0 0 0 0 0 1 1 1 1 0 0 0 0 0 0 0 0 0 0 1 1 1 0 0 0 0 0 0 0 \n",
      "0 0 0 0 0 0 0 0 1 1 1 1 0 0 0 0 0 0 0 0 0 0 1 1 1 0 0 0 0 0 0 0 \n",
      "0 0 0 0 0 0 0 0 1 1 1 1 0 0 0 0 0 0 0 0 0 0 1 1 1 0 0 0 0 0 0 0 \n",
      "0 0 0 0 0 0 0 0 1 1 1 1 0 0 0 0 0 0 0 0 0 0 1 1 1 0 0 0 0 0 0 0 \n",
      "0 0 0 0 0 0 0 0 1 1 1 1 0 0 0 0 0 0 0 0 0 0 1 1 1 0 0 0 0 0 0 0 \n",
      "0 0 0 0 0 0 0 0 1 1 1 1 0 0 0 0 0 0 0 0 0 0 1 1 1 0 0 0 0 0 0 0 \n",
      "0 0 0 0 0 0 0 0 1 1 1 1 0 0 0 0 0 0 0 0 0 0 1 1 1 0 0 0 0 0 0 0 \n",
      "0 0 0 0 0 0 0 0 1 1 1 1 0 0 0 0 0 0 0 0 0 0 1 1 1 0 0 0 0 0 0 0 \n",
      "0 0 0 0 0 0 0 0 1 1 1 1 0 0 0 0 0 0 0 0 0 0 1 1 1 0 0 0 0 0 0 0 \n",
      "0 0 0 0 0 0 0 0 1 1 1 1 0 0 0 0 0 0 0 0 0 0 1 1 1 0 0 0 0 0 0 0 \n",
      "0 0 0 0 0 0 0 0 1 1 1 1 0 0 0 0 0 0 0 0 0 0 1 1 1 0 0 0 0 0 0 0 \n",
      "0 0 0 0 0 0 0 0 1 1 1 1 0 0 0 0 0 0 0 0 0 0 1 1 1 0 0 0 0 0 0 0 \n",
      "0 0 0 0 0 0 0 0 1 1 1 1 0 0 0 0 0 0 0 0 0 0 1 1 1 0 0 0 0 0 0 0 \n",
      "0 0 0 0 0 0 0 0 1 1 1 1 0 0 0 0 0 0 0 0 0 0 1 1 1 0 0 0 0 0 0 0 \n",
      "0 0 0 0 0 0 0 0 1 1 1 1 0 0 0 0 0 0 0 0 0 0 1 1 0 0 0 0 0 0 0 0 \n",
      "0 0 0 0 0 0 0 0 0 0 1 1 1 1 1 1 1 1 1 1 1 1 1 0 0 0 0 0 0 0 0 0 \n",
      "0 0 0 0 0 0 0 0 0 0 1 1 1 1 1 1 1 1 1 1 1 1 0 0 0 0 0 0 0 0 0 0 \n",
      "0 0 0 0 0 0 0 0 0 0 1 1 1 1 1 1 1 1 1 1 1 1 0 0 0 0 0 0 0 0 0 0 \n",
      "0 0 0 0 0 0 0 0 0 0 0 0 1 1 1 1 1 1 1 1 1 0 0 0 0 0 0 0 0 0 0 0 \n",
      "0 0 0 0 0 0 0 0 0 0 0 0 1 1 1 1 1 1 1 1 0 0 0 0 0 0 0 0 0 0 0 0 \n",
      "0 0 0 0 0 0 0 0 0 0 0 0 0 0 0 0 0 0 0 0 0 0 0 0 0 0 0 0 0 0 0 0 \n"
     ]
    },
    {
     "data": {
      "image/png": "[encoded data removed]",
      "text/plain": [
       "<Figure size 900x360 with 2 Axes>"
      ]
     },
     "metadata": {
      "needs_background": "light"
     },
     "output_type": "display_data"
    }
   ],
   "source": [
    "imgCompress(2)"
   ]
  },
  {
   "cell_type": "markdown",
   "metadata": {},
   "source": [
    "矩阵里包含了一个0字，可以看到重构的矩阵的0变得平整了一些。显然svd是一种有损的压缩，大家要根据需求使用。"
   ]
  },
  {
   "cell_type": "markdown",
   "metadata": {},
   "source": [
    "# 额外的展示"
   ]
  },
  {
   "cell_type": "code",
   "execution_count": 32,
   "metadata": {},
   "outputs": [
    {
     "data": {
      "image/png": "[encoded data removed]",
      "text/plain": [
       "<Figure size 900x360 with 2 Axes>"
      ]
     },
     "metadata": {
      "needs_background": "light"
     },
     "output_type": "display_data"
    }
   ],
   "source": [
    "data = loadPicData()\n",
    "U,Sigma,VT = linalg.svd(data)\n",
    "\n",
    "total = np.sum(Sigma)\n",
    "num = Sigma.shape[0]\n",
    "s_rate = Sigma / total * 100\n",
    "\n",
    "plt.figure()#创建画布\n",
    "figsize(12.5, 5)#调整图片大小\n",
    "\n",
    "plt.subplot(1,2,1)#选择第一块区域\n",
    "plt.plot(np.arange(1,num+1,1),s_rate,\"-o\")#画出第一幅图\n",
    "plt.xlabel(\"第n个奇异值\")\n",
    "plt.ylabel(\"奇异值的大小\")\n",
    "\n",
    "plt.subplot(1,2,2)#选择第二块区域\n",
    "plt.plot(np.arange(1,num+1,1),[np.sum(s_rate[:i]) for i in range(num)],\"-o\")#画出第二幅图\n",
    "plt.xlabel(\"奇异值数量\")\n",
    "plt.ylabel(\"奇异值总和/总奇异值\")\n",
    "\n",
    "plt.tight_layout()\n",
    "plt.show()"
   ]
  },
  {
   "cell_type": "markdown",
   "metadata": {},
   "source": [
    "我们可以看到奇异值大小下降是非常快的，而且前几个奇异值非常大，其包含的信息就越多。\n",
    "\n",
    "以上便是15章SVD要展示的所有的内容，感谢你的观看。"
   ]
  },
  {
   "cell_type": "code",
   "execution_count": null,
   "metadata": {},
   "outputs": [],
   "source": []
  }
 ],
 "metadata": {
  "kernelspec": {
   "display_name": "Python 3",
   "language": "python",
   "name": "python3"
  },
  "language_info": {
   "codemirror_mode": {
    "name": "ipython",
    "version": 3
   },
   "file_extension": ".py",
   "mimetype": "text/x-python",
   "name": "python",
   "nbconvert_exporter": "python",
   "pygments_lexer": "ipython3",
   "version": "3.7.0"
  }
 },
 "nbformat": 4,
 "nbformat_minor": 2
}
